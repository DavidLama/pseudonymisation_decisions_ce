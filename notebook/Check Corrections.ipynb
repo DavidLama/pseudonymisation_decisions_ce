{
 "cells": [
  {
   "cell_type": "code",
   "execution_count": 5,
   "metadata": {},
   "outputs": [],
   "source": [
    "import pandas as pd\n",
    "from scipy import stats\n",
    "from collections import Counter\n",
    "import xml.etree.ElementTree as ET\n",
    "from scipy import stats"
   ]
  },
  {
   "cell_type": "markdown",
   "metadata": {},
   "source": [
    "## Préparation des données"
   ]
  },
  {
   "cell_type": "code",
   "execution_count": 6,
   "metadata": {},
   "outputs": [],
   "source": [
    "df_decisions = pd.read_csv(\"documents.csv\")"
   ]
  },
  {
   "cell_type": "code",
   "execution_count": 7,
   "metadata": {},
   "outputs": [
    {
     "name": "stdout",
     "output_type": "stream",
     "text": [
      "(284630, 12)\n"
     ]
    }
   ],
   "source": [
    "print(df_decisions.shape)"
   ]
  },
  {
   "cell_type": "markdown",
   "metadata": {},
   "source": [
    "On trie les décisions par date et ordre alphabétique. On groupe ensuite les statuts successifs pour chaque décisions.\n",
    "On rappelle les valeurs des différents code statut :\n",
    "   - 0 non traité\n",
    "   - 1 ok\n",
    "   - 2 en doute\n",
    "   - 3 en erreur\n",
    "   - 4 en modification\n",
    "   - 5 corrigé\n",
    "\n",
    "Les codes 0, 1, 2, 3 sont directements générés par le système legacy."
   ]
  },
  {
   "cell_type": "code",
   "execution_count": 4,
   "metadata": {},
   "outputs": [],
   "source": [
    "df_decisions = df_decisions.sort_values('timestamp_modification',ascending=True).sort_values('chemin_source',ascending=True)"
   ]
  },
  {
   "cell_type": "code",
   "execution_count": 6,
   "metadata": {},
   "outputs": [],
   "source": [
    "validation_path = df_decisions.groupby('chemin_source')['statut'].apply(tuple).reset_index(name='validation')"
   ]
  },
  {
   "cell_type": "markdown",
   "metadata": {},
   "source": [
    "## Comptage des différents statuts"
   ]
  },
  {
   "cell_type": "markdown",
   "metadata": {},
   "source": [
    "Il existe 192 combinaisons de statuts différentes. Les 10 plus fréquentes représentent plus de 99% du total.  \n",
    "Le code le plus présent est le 1-ok unique, donc jamais ni mis en doute ni modifié. Il représente la performance maximale du système (hypothèse que tous les codes 1-ok sont justes, hypothèse à challenger)."
   ]
  },
  {
   "cell_type": "code",
   "execution_count": 14,
   "metadata": {},
   "outputs": [
    {
     "name": "stdout",
     "output_type": "stream",
     "text": [
      "192\n"
     ]
    }
   ],
   "source": [
    "validation_paths = Counter(validation_path.validation.to_list())\n",
    "print(len(validation_paths))"
   ]
  },
  {
   "cell_type": "code",
   "execution_count": 35,
   "metadata": {},
   "outputs": [
    {
     "data": {
      "text/plain": [
       "'Les 10 premières combinaisons de code représentent 99.03 % du total des fichiers'"
      ]
     },
     "execution_count": 35,
     "metadata": {},
     "output_type": "execute_result"
    }
   ],
   "source": [
    "\"Les 10 premières combinaisons de code représentent {0:.2f} % du total des fichiers\".format(100*sum(n for _, n in validation_paths.most_common(10))/validation_path.shape[0])"
   ]
  },
  {
   "cell_type": "code",
   "execution_count": 38,
   "metadata": {},
   "outputs": [
    {
     "name": "stdout",
     "output_type": "stream",
     "text": [
      "Prortions respectives des 10 combinaisons de statuts les plus fréquentes : \n",
      "\n",
      "(1,) 76.99 %\n",
      "(5,) 11.59 %\n",
      "(1, 1) 7.47 %\n",
      "(5, 5) 0.85 %\n",
      "(1, 1, 1) 0.72 %\n",
      "(2,) 0.61 %\n",
      "(4,) 0.42 %\n",
      "(0,) 0.14 %\n",
      "(3,) 0.13 %\n",
      "(1, 1, 1, 1) 0.11 %\n"
     ]
    }
   ],
   "source": [
    "print(\"Prortions respectives des 10 combinaisons de statuts les plus fréquentes : \\n\")\n",
    "for statuts, n in validation_paths.most_common(10):\n",
    "    print(statuts, \"{0:.2f} %\".format((n/validation_path.shape[0])*100))"
   ]
  },
  {
   "cell_type": "markdown",
   "metadata": {
    "scrolled": false
   },
   "source": [
    "## Exploration des types de corrections"
   ]
  },
  {
   "cell_type": "markdown",
   "metadata": {},
   "source": [
    "On selectionne uniquement les fichiers ayant plusieurs versions du xml de pseudonymisation avec des statuts successifs."
   ]
  },
  {
   "cell_type": "code",
   "execution_count": 40,
   "metadata": {},
   "outputs": [],
   "source": [
    "to_check = [combinaison for combinaison in validation_paths if len(combinaison) > 1]\n",
    "files_to_check = {}\n",
    "for i in to_check:\n",
    "    \n",
    "    files_to_check[i] = validation_path[validation_path[\"validation\"] == i][\"chemin_source\"].to_list()\n",
    "    "
   ]
  },
  {
   "cell_type": "code",
   "execution_count": 41,
   "metadata": {},
   "outputs": [],
   "source": [
    "def make_utf8_corrections(text):\n",
    "    \"\"\"Corrections standards sur les XML\"\"\"\n",
    "    \n",
    "    return text.replace(\"\\xa0;\", b'\\xe2\\x80\\x82'.decode('utf-8')).replace(\"&#x1F;\",\n",
    "                                                                          b'\\xe2\\x80\\x82'.decode('utf-8')).replace(\n",
    "        \"&#xB;\", b'\\xe2\\x80\\x82'.decode('utf-8')).replace(\"&gt;\", b'\\xe2\\x80\\x82'.decode('utf-8')).replace(\"&lt;\",\n",
    "                                                                                                           b'\\xe2\\x80\\x82'.decode(\n",
    "                                                                                                               'utf-8')).replace(\n",
    "        \"&#x1E;\", b'\\xe2\\x80\\x82'.decode('utf-8')).replace(\"&#xF;\", b'\\xe2\\x80\\x82'.decode('utf-8')).replace(\"&#x1D;\",\n",
    "                                                                                                             b'\\xe2\\x80\\x82'.decode(\n",
    "                                                                                                                 'utf-8')).replace(\n",
    "        \"&#x1C;\", b'\\xe2\\x80\\x82'.decode('utf-8')).replace(\"&#x1B;\", b'\\xe2\\x80\\x82'.decode('utf-8'))\n"
   ]
  },
  {
   "cell_type": "code",
   "execution_count": 42,
   "metadata": {},
   "outputs": [],
   "source": [
    "def get_xmls(chemin_source):\n",
    "    \"\"\"Récupération des XML de pseudonymisation pour un fichier\"\"\"\n",
    "    \n",
    "    sub_df = df_decisions[df_decisions[\"chemin_source\"] == chemin_source]\n",
    "    modifications = dict(zip(sub_df.timestamp_modification, sub_df.detail_anonymisation))\n",
    "    return {k: modifications[k] for k in modifications if type(k) is str}\n",
    "\n"
   ]
  },
  {
   "cell_type": "code",
   "execution_count": 70,
   "metadata": {},
   "outputs": [],
   "source": [
    "def get_xml_items(items):\n",
    "    \"\"\" Récupération des items pour un xml donné\"\"\"\n",
    "    \n",
    "    pseudos = Counter([e.find(\"Mots\").text for e in items])\n",
    "            \n",
    "    return pseudos\n",
    "            \n",
    "    "
   ]
  },
  {
   "cell_type": "code",
   "execution_count": 86,
   "metadata": {},
   "outputs": [],
   "source": [
    "def xml_difference(previous_xml, new_xml):\n",
    "    \"\"\"Comparaison des différences entre deux versions d'un xml de pseudonymisation\"\"\"\n",
    "    \n",
    "    items_previous = ET.ElementTree(ET.fromstring(make_utf8_corrections(previous_xml))).findall(\".//MotsAnonymises/MotAnonymise\")\n",
    "    items_new = ET.ElementTree(ET.fromstring(make_utf8_corrections(new_xml))).findall(\".//MotsAnonymises/MotAnonymise\")\n",
    "    \n",
    "    pseudos_previous = get_xml_items(items_previous)\n",
    "    pseudos_new = get_xml_items(items_new)\n",
    "\n",
    "    if pseudos_previous != pseudos_new:\n",
    "        corrected = 1\n",
    "        added_items = len([k for k in pseudos_new.keys() if k not in pseudos_previous])\n",
    "        total_added = sum(pseudos_new.values()) - sum(pseudos_previous.values())\n",
    "    else:\n",
    "        corrected = 0\n",
    "        added_items = 0\n",
    "        total_added = 0\n",
    "        \n",
    "    return corrected, added_items,total_added\n"
   ]
  },
  {
   "cell_type": "code",
   "execution_count": 94,
   "metadata": {
    "collapsed": true
   },
   "outputs": [
    {
     "name": "stdout",
     "output_type": "stream",
     "text": [
      "reference to invalid character number: line 30, column 72\n",
      "'NoneType' object has no attribute 'text'\n",
      "list index out of range\n",
      "list index out of range\n",
      "list index out of range\n",
      "list index out of range\n",
      "list index out of range\n",
      "list index out of range\n",
      "list index out of range\n",
      "list index out of range\n",
      "list index out of range\n",
      "list index out of range\n",
      "list index out of range\n",
      "list index out of range\n",
      "list index out of range\n",
      "list index out of range\n",
      "list index out of range\n",
      "list index out of range\n",
      "list index out of range\n",
      "list index out of range\n",
      "list index out of range\n",
      "list index out of range\n",
      "list index out of range\n",
      "list index out of range\n",
      "list index out of range\n",
      "list index out of range\n",
      "list index out of range\n",
      "list index out of range\n",
      "list index out of range\n",
      "list index out of range\n",
      "list index out of range\n",
      "list index out of range\n",
      "list index out of range\n",
      "list index out of range\n",
      "list index out of range\n",
      "list index out of range\n",
      "list index out of range\n",
      "list index out of range\n",
      "list index out of range\n",
      "list index out of range\n",
      "list index out of range\n",
      "list index out of range\n",
      "list index out of range\n",
      "list index out of range\n",
      "list index out of range\n",
      "list index out of range\n",
      "list index out of range\n",
      "list index out of range\n",
      "list index out of range\n",
      "list index out of range\n",
      "list index out of range\n",
      "list index out of range\n",
      "list index out of range\n",
      "list index out of range\n",
      "list index out of range\n",
      "list index out of range\n",
      "list index out of range\n",
      "list index out of range\n",
      "list index out of range\n",
      "list index out of range\n",
      "list index out of range\n",
      "list index out of range\n",
      "list index out of range\n",
      "list index out of range\n",
      "list index out of range\n",
      "list index out of range\n",
      "list index out of range\n",
      "list index out of range\n",
      "list index out of range\n",
      "list index out of range\n",
      "list index out of range\n",
      "list index out of range\n",
      "list index out of range\n",
      "list index out of range\n",
      "list index out of range\n",
      "list index out of range\n",
      "list index out of range\n",
      "list index out of range\n",
      "list index out of range\n",
      "list index out of range\n",
      "list index out of range\n",
      "list index out of range\n",
      "list index out of range\n",
      "list index out of range\n",
      "list index out of range\n",
      "list index out of range\n",
      "list index out of range\n",
      "list index out of range\n",
      "list index out of range\n",
      "list index out of range\n",
      "list index out of range\n",
      "list index out of range\n",
      "list index out of range\n",
      "list index out of range\n",
      "list index out of range\n",
      "list index out of range\n",
      "list index out of range\n",
      "list index out of range\n",
      "list index out of range\n",
      "list index out of range\n",
      "list index out of range\n",
      "list index out of range\n",
      "list index out of range\n",
      "list index out of range\n",
      "list index out of range\n",
      "list index out of range\n",
      "list index out of range\n",
      "list index out of range\n",
      "list index out of range\n",
      "list index out of range\n",
      "list index out of range\n",
      "list index out of range\n",
      "list index out of range\n",
      "list index out of range\n",
      "list index out of range\n",
      "list index out of range\n",
      "list index out of range\n",
      "list index out of range\n",
      "list index out of range\n",
      "list index out of range\n",
      "list index out of range\n",
      "list index out of range\n",
      "list index out of range\n",
      "list index out of range\n",
      "list index out of range\n"
     ]
    }
   ],
   "source": [
    "missed_items = []\n",
    "deleted_items = []\n",
    "additions = []\n",
    "deletions = []\n",
    "correcteds = 0\n",
    "ct = 0\n",
    "for statuts in files_to_check:\n",
    "    for file in files_to_check[statuts]:\n",
    "        try:\n",
    "            ct+=1\n",
    "            xmls = get_xmls(file)\n",
    "            dates = [x for x in xmls]\n",
    "            dates.sort() #plus vieux en premier\n",
    "            corrected, added_items,total_added = xml_difference(xmls[dates[0]],xmls[dates[-1]])\n",
    "\n",
    "            if added_items > 0:\n",
    "                missed_items.append(added_items)\n",
    "            elif added_items < 0:\n",
    "                deleted_items.append(added_items)\n",
    "\n",
    "            if total_added > 0:\n",
    "                additions.append(added_items)\n",
    "            elif total_added < 0:\n",
    "                deletions.append(added_items)\n",
    "                \n",
    "            correcteds += corrected\n",
    "                \n",
    "        except Exception as e:\n",
    "            pass"
   ]
  },
  {
   "cell_type": "code",
   "execution_count": 112,
   "metadata": {},
   "outputs": [
    {
     "name": "stdout",
     "output_type": "stream",
     "text": [
      "25531\n",
      "0.5316701523752614\n"
     ]
    }
   ],
   "source": [
    "print(ct)\n",
    "print(3559/correcteds)\n"
   ]
  },
  {
   "cell_type": "code",
   "execution_count": 104,
   "metadata": {},
   "outputs": [
    {
     "name": "stdout",
     "output_type": "stream",
     "text": [
      "DescribeResult(nobs=2125, minmax=(1, 133), mean=2.2931764705882354, variance=14.253460950481887, skewness=21.97618777362818, kurtosis=698.4577796102368)\n",
      "DescribeResult(nobs=2790, minmax=(0, 133), mean=1.5351254480286738, variance=11.129457764823663, skewness=23.56841113789913, kurtosis=875.1411677181997)\n",
      "DescribeResult(nobs=3559, minmax=(0, 53), mean=0.10958134307389716, variance=0.9868643272066272, skewness=43.10685772855553, kurtosis=2259.3847468895715)\n"
     ]
    }
   ],
   "source": [
    "print(stats.describe(missed_items))\n",
    "print(stats.describe(additions))\n",
    "print(stats.describe(deletions))"
   ]
  },
  {
   "cell_type": "code",
   "execution_count": 8,
   "metadata": {},
   "outputs": [
    {
     "data": {
      "text/plain": [
       "219165.1"
      ]
     },
     "execution_count": 8,
     "metadata": {},
     "output_type": "execute_result"
    }
   ],
   "source": [
    "284630*0.77"
   ]
  },
  {
   "cell_type": "code",
   "execution_count": 9,
   "metadata": {},
   "outputs": [
    {
     "data": {
      "text/plain": [
       "244696"
      ]
     },
     "execution_count": 9,
     "metadata": {},
     "output_type": "execute_result"
    }
   ],
   "source": [
    "219165 + 25531"
   ]
  },
  {
   "cell_type": "code",
   "execution_count": 10,
   "metadata": {},
   "outputs": [
    {
     "data": {
      "text/plain": [
       "0.8596985560200963"
      ]
     },
     "execution_count": 10,
     "metadata": {},
     "output_type": "execute_result"
    }
   ],
   "source": [
    "244696/284630"
   ]
  },
  {
   "cell_type": "code",
   "execution_count": null,
   "metadata": {},
   "outputs": [],
   "source": [
    "\n",
    "# pour un jour checker step by step l'évolutiond des status\n",
    "def grouped(iterable, n):\n",
    "    return zip(*[iter(iterable)]*n)\n",
    "\n",
    "for x, y in grouped(xmls, 2):\n",
    "   print(y,x)"
   ]
  }
 ],
 "metadata": {
  "kernelspec": {
   "display_name": "Python 3",
   "language": "python",
   "name": "python3"
  },
  "language_info": {
   "codemirror_mode": {
    "name": "ipython",
    "version": 3
   },
   "file_extension": ".py",
   "mimetype": "text/x-python",
   "name": "python",
   "nbconvert_exporter": "python",
   "pygments_lexer": "ipython3",
   "version": "3.7.6"
  }
 },
 "nbformat": 4,
 "nbformat_minor": 4
}
